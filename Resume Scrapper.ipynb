{
 "cells": [
  {
   "cell_type": "code",
   "execution_count": null,
   "id": "f342c86b",
   "metadata": {},
   "outputs": [],
   "source": []
  },
  {
   "cell_type": "code",
   "execution_count": 5,
   "id": "c490cc72",
   "metadata": {},
   "outputs": [
    {
     "ename": "ModuleNotFoundError",
     "evalue": "No module named 'docx'",
     "output_type": "error",
     "traceback": [
      "\u001b[1;31m---------------------------------------------------------------------------\u001b[0m",
      "\u001b[1;31mModuleNotFoundError\u001b[0m                       Traceback (most recent call last)",
      "\u001b[1;32m<ipython-input-5-36b5307fdce5>\u001b[0m in \u001b[0;36m<module>\u001b[1;34m\u001b[0m\n\u001b[0;32m      1\u001b[0m \u001b[1;31m#import PyPDF2\u001b[0m\u001b[1;33m\u001b[0m\u001b[1;33m\u001b[0m\u001b[1;33m\u001b[0m\u001b[0m\n\u001b[1;32m----> 2\u001b[1;33m \u001b[1;32mimport\u001b[0m \u001b[0mdocx\u001b[0m\u001b[1;33m\u001b[0m\u001b[1;33m\u001b[0m\u001b[0m\n\u001b[0m\u001b[0;32m      3\u001b[0m \u001b[1;32mimport\u001b[0m \u001b[0mpandas\u001b[0m \u001b[1;32mas\u001b[0m \u001b[0mpd\u001b[0m\u001b[1;33m\u001b[0m\u001b[1;33m\u001b[0m\u001b[0m\n\u001b[0;32m      4\u001b[0m \u001b[1;32mimport\u001b[0m \u001b[0mre\u001b[0m\u001b[1;33m\u001b[0m\u001b[1;33m\u001b[0m\u001b[0m\n",
      "\u001b[1;31mModuleNotFoundError\u001b[0m: No module named 'docx'"
     ]
    }
   ],
   "source": [
    "import PyPDF2\n",
    "import docx\n",
    "import pandas as pd\n",
    "import re"
   ]
  },
  {
   "cell_type": "code",
   "execution_count": null,
   "id": "3fd559f8",
   "metadata": {},
   "outputs": [],
   "source": [
    "def extract_pdf_info(file_path):\n",
    "    pdf_file = open(file_path, 'rb')\n",
    "    pdf_reader = PyPDF2.PdfFileReader(pdf_file)\n",
    "\n",
    "    name = \"\"\n",
    "    mail = \"\"\n",
    "    mobile_no = \"\"\n",
    "    education = \"\"\n",
    "    address = \"\"\n",
    "    skills = \"\"\n",
    "\n",
    "    for page in pdf_reader.pages:\n",
    "        text = page.extractText()\n",
    "        # extract name\n",
    "        if re.search(r'Name\\s*:\\s*(.*)\\n', text):\n",
    "            name = re.search(r'Name\\s*:\\s*(.*)\\n', text).group(1)\n",
    "        # extract mail\n",
    "        if re.search(r'Email\\s*:\\s*(.*)\\n', text):\n",
    "            mail = re.search(r'Email\\s*:\\s*(.*)\\n', text).group(1)\n",
    "        # extract mobile no\n",
    "        if re.search(r'Mobile\\s*:\\s*(.*)\\n', text):\n",
    "            mobile_no = re.search(r'Mobile\\s*:\\s*(.*)\\n', text).group(1)\n",
    "        # extract education\n",
    "        if re.search(r'Education\\s*:\\s*(.*)\\n', text):\n",
    "            education = re.search(r'Education\\s*:\\s*(.*)\\n', text).group(1)\n",
    "        # extract address\n",
    "        if re.search(r'Address\\s*:\\s*(.*)\\n', text):\n",
    "            address = re.search(r'Address\\s*:\\s*(.*)\\n', text).group(1)\n",
    "        # extract skills\n",
    "        if re.search(r'Skills\\s*:\\s*(.*)\\n', text):\n",
    "            skills = re.search(r'Skills\\s*:\\s*(.*)\\n', text).group(1)\n",
    "\n",
    "    pdf_file.close()\n",
    "    return {\"Name\": name, \"Email\": mail, \"Mobile No.\": mobile_no, \"Education/Qualification\": education, \"Address\": address, \"Skills\": skills}\n"
   ]
  },
  {
   "cell_type": "code",
   "execution_count": null,
   "id": "5f379f77",
   "metadata": {},
   "outputs": [],
   "source": [
    "def extract_docx_info(file_path):\n",
    "    doc = docx.Document(file_path)\n",
    "\n",
    "    name = \"\"\n",
    "    mail = \"\"\n",
    "    mobile_no = \"\"\n",
    "    education = \"\"\n",
    "    address = \"\"\n",
    "    skills = \"\"\n",
    "\n",
    "    for para in doc.paragraphs:\n",
    "        # extract name\n",
    "        if re.search(r'Name\\s*:\\s*(.*)', para.text):\n",
    "            name = re.search(r'Name\\s*:\\s*(.*)', para.text).group(1)\n",
    "        # extract mail\n",
    "        if re.search(r'Email\\s*:\\s*(.*)', para.text):\n",
    "            mail = re.search(r'Email\\s*:\\s*(.*)', para.text).\n"
   ]
  },
  {
   "cell_type": "code",
   "execution_count": null,
   "id": "b9c1e8d2",
   "metadata": {},
   "outputs": [],
   "source": []
  }
 ],
 "metadata": {
  "kernelspec": {
   "display_name": "Python 3",
   "language": "python",
   "name": "python3"
  },
  "language_info": {
   "codemirror_mode": {
    "name": "ipython",
    "version": 3
   },
   "file_extension": ".py",
   "mimetype": "text/x-python",
   "name": "python",
   "nbconvert_exporter": "python",
   "pygments_lexer": "ipython3",
   "version": "3.8.8"
  }
 },
 "nbformat": 4,
 "nbformat_minor": 5
}
