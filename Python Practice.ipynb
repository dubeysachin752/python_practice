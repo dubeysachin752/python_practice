{
 "cells": [
  {
   "cell_type": "markdown",
   "id": "316a5b88",
   "metadata": {},
   "source": [
    "# Day 1"
   ]
  },
  {
   "cell_type": "raw",
   "id": "42286443",
   "metadata": {},
   "source": [
    "Q. given a list of integers, return True If the array contains a 3 next to a 3 somewhere \n",
    "e.g. has_33[1,3,3] True\n",
    "has_33[1,3,1,3] False\n",
    "has_33[3,1,3] False\n",
    "has_33[3,3,1] True"
   ]
  },
  {
   "cell_type": "code",
   "execution_count": 40,
   "id": "ee4f011e",
   "metadata": {},
   "outputs": [],
   "source": [
    "# method - 1\n",
    "def has_33(l):\n",
    "    for i in range(0,len(l)):\n",
    "        if l[i]==3 and l[i+1]==3:\n",
    "            return True\n",
    "    return False "
   ]
  },
  {
   "cell_type": "code",
   "execution_count": 30,
   "id": "fcd28753",
   "metadata": {},
   "outputs": [
    {
     "name": "stdout",
     "output_type": "stream",
     "text": [
      "True\n"
     ]
    }
   ],
   "source": [
    "print(has_33([3,3,1,3,1,3]))"
   ]
  },
  {
   "cell_type": "code",
   "execution_count": 39,
   "id": "72646909",
   "metadata": {},
   "outputs": [
    {
     "name": "stdout",
     "output_type": "stream",
     "text": [
      "True\n"
     ]
    }
   ],
   "source": [
    "# method -2\n",
    "\n",
    "def has_33(lst):\n",
    "    for i in range(0,len(lst)-1):\n",
    "        if lst[i:i+2]==[3,3]:\n",
    "            return True\n",
    "        else:\n",
    "            pass\n",
    "print(has_33([1,2,1,3,3]))"
   ]
  },
  {
   "cell_type": "markdown",
   "id": "7ea74833",
   "metadata": {},
   "source": [
    "# Day 2"
   ]
  },
  {
   "cell_type": "raw",
   "id": "acd89a38",
   "metadata": {},
   "source": [
    "Q. w.a.f that return the less of 2 given number ,if both the number are even,but returns grether if one or both number are odd or both are even\n",
    "e.g. has_33[1,3,3] True\n",
    "less_of_two_even(2,4) ---> 2\n",
    "less_of_two_even(2,3) ---> 3\n",
    "less_of_two_even(3,4) ---> 4"
   ]
  },
  {
   "cell_type": "code",
   "execution_count": 41,
   "id": "ef2b754d",
   "metadata": {},
   "outputs": [],
   "source": [
    "# method - 1\n",
    "def less_of_two_even(n1,n2):\n",
    "    if n1 %2==0 and n2 %2==0:\n",
    "        print(min(n1,n2))\n",
    "    else:\n",
    "        print(max(n1,n2))\n"
   ]
  },
  {
   "cell_type": "code",
   "execution_count": 43,
   "id": "e7646486",
   "metadata": {},
   "outputs": [
    {
     "name": "stdout",
     "output_type": "stream",
     "text": [
      "2\n"
     ]
    }
   ],
   "source": [
    "less_of_two_even(2,4)"
   ]
  },
  {
   "cell_type": "code",
   "execution_count": 48,
   "id": "afd59c51",
   "metadata": {},
   "outputs": [
    {
     "data": {
      "text/plain": [
       "[5]"
      ]
     },
     "execution_count": 48,
     "metadata": {},
     "output_type": "execute_result"
    }
   ],
   "source": [
    "#method - 2 \n",
    "def greter_less(a,b):\n",
    "    l2even=[min(a,b) if a%2 ==0 and b%2==0 else max(a,b)]\n",
    "    return l2even\n",
    "\n",
    "greter_less(1,5)"
   ]
  },
  {
   "cell_type": "code",
   "execution_count": null,
   "id": "354f3a39",
   "metadata": {},
   "outputs": [],
   "source": []
  },
  {
   "cell_type": "markdown",
   "id": "c4211d33",
   "metadata": {},
   "source": [
    "# Day 3"
   ]
  },
  {
   "cell_type": "raw",
   "id": "fdd39e4b",
   "metadata": {},
   "source": [
    "W.A.F that take a list and reutern list of unique element \n",
    "e.g. has_33[1,3,3] True\n",
    "input: [1,2,2,2,3,534,35,2,35,55]\n",
    "ouput: [1,2,3,534,35,55]"
   ]
  },
  {
   "cell_type": "code",
   "execution_count": 51,
   "id": "98d54fc2",
   "metadata": {},
   "outputs": [
    {
     "name": "stdout",
     "output_type": "stream",
     "text": [
      "[  1   2   3  35  55 534]\n"
     ]
    }
   ],
   "source": [
    "import numpy as np\n",
    "inp=[1,2,2,2,3,534,35,2,35,55]\n",
    "x=np.array(inp)\n",
    "print(np.unique(x))"
   ]
  },
  {
   "cell_type": "code",
   "execution_count": 52,
   "id": "92e0e01d",
   "metadata": {},
   "outputs": [
    {
     "data": {
      "text/plain": [
       "[1, 2, 3, 35, 534, 55]"
      ]
     },
     "execution_count": 52,
     "metadata": {},
     "output_type": "execute_result"
    }
   ],
   "source": [
    "def unique(lst):\n",
    "    unq=list(set(lst))\n",
    "    return unq\n",
    "unique([1,2,2,2,3,534,35,2,35,55])"
   ]
  },
  {
   "cell_type": "markdown",
   "id": "a818c75d",
   "metadata": {},
   "source": [
    "# Day 4"
   ]
  },
  {
   "cell_type": "raw",
   "id": "7c5b39b8",
   "metadata": {},
   "source": [
    "WAP to check whether a string is pangram or not .\n",
    "Pangram is sentence containing evry letter of the alphabet r"
   ]
  },
  {
   "cell_type": "code",
   "execution_count": 9,
   "id": "cf36d49d",
   "metadata": {},
   "outputs": [],
   "source": [
    "def pan_gram(int_str):\n",
    "    int_str=int_str.lower()\n",
    "    charlist=[chr(i) for i in range(97,123)]\n",
    "    for ch in charlist:\n",
    "        if ch not in int_str:\n",
    "            return False\n",
    "        return True"
   ]
  },
  {
   "cell_type": "code",
   "execution_count": 12,
   "id": "eec07e5a",
   "metadata": {
    "scrolled": true
   },
   "outputs": [
    {
     "data": {
      "text/plain": [
       "True"
      ]
     },
     "execution_count": 12,
     "metadata": {},
     "output_type": "execute_result"
    }
   ],
   "source": [
    "inpt =('a quick brown box jumps over the lazy dog')\n",
    "output=pan_gram(inpt)\n",
    "output"
   ]
  },
  {
   "cell_type": "markdown",
   "id": "ef4a49f9",
   "metadata": {},
   "source": [
    "# Day 5"
   ]
  },
  {
   "cell_type": "raw",
   "id": "a1ea58ef",
   "metadata": {},
   "source": [
    "if starting letter is same the True else False \n",
    "\n",
    "Credit Card --True\n",
    "Credit Rist --False "
   ]
  },
  {
   "cell_type": "code",
   "execution_count": 14,
   "id": "68e37ac4",
   "metadata": {},
   "outputs": [],
   "source": [
    "def animal_cracker(string):\n",
    "    s1,s2=string.split(' ')\n",
    "    print(s1[0].upper()==s2[0].upper())"
   ]
  },
  {
   "cell_type": "code",
   "execution_count": 15,
   "id": "f6259b66",
   "metadata": {},
   "outputs": [
    {
     "name": "stdout",
     "output_type": "stream",
     "text": [
      "True\n"
     ]
    }
   ],
   "source": [
    "animal_cracker(\"Credit Card\")"
   ]
  },
  {
   "cell_type": "code",
   "execution_count": 16,
   "id": "8060bf1e",
   "metadata": {},
   "outputs": [
    {
     "name": "stdout",
     "output_type": "stream",
     "text": [
      "False\n"
     ]
    }
   ],
   "source": [
    "animal_cracker(\"Credit Risk\")"
   ]
  },
  {
   "cell_type": "markdown",
   "id": "d7e3baa6",
   "metadata": {},
   "source": [
    "# Day 6"
   ]
  },
  {
   "cell_type": "raw",
   "id": "c49ef5e4",
   "metadata": {},
   "source": [
    "if list contain 007 then True else false\n",
    "\n",
    "[1,2,4,5,6,0,0,5,7] -->True\n",
    "[1,0,4,2,0,0,0,5,7] -->True\n",
    "[1,7,2,0,4,5,0] -->False"
   ]
  },
  {
   "cell_type": "code",
   "execution_count": 24,
   "id": "e78e84b9",
   "metadata": {},
   "outputs": [],
   "source": [
    "def find_007(a):\n",
    "    d=False\n",
    "    for i in range(len(a)):\n",
    "        if a[i]==0:\n",
    "            for j in range(i+1,len(a)):\n",
    "                if a[j]==0:\n",
    "                    for k in range(j+1,len(a)):\n",
    "                        if a[k]==7:\n",
    "                            d=True\n",
    "                            break\n",
    "    print(d)"
   ]
  },
  {
   "cell_type": "code",
   "execution_count": 25,
   "id": "9e5dbea6",
   "metadata": {},
   "outputs": [
    {
     "name": "stdout",
     "output_type": "stream",
     "text": [
      "True\n",
      "True\n",
      "False\n"
     ]
    }
   ],
   "source": [
    "x= [1,2,4,5,6,0,0,5,7]\n",
    "y= [1,0,4,2,0,0,0,5,7]\n",
    "z= [1,7,2,0,4,5,0] \n",
    "find_007(x)\n",
    "find_007(y)\n",
    "find_007(z)"
   ]
  },
  {
   "cell_type": "markdown",
   "id": "268ed84c",
   "metadata": {},
   "source": [
    "# Day 7"
   ]
  },
  {
   "cell_type": "raw",
   "id": "8361bdae",
   "metadata": {},
   "source": [
    "WAP which take string as input and convert every even letter to Upper and Odd postion letter to lower case "
   ]
  },
  {
   "cell_type": "code",
   "execution_count": 50,
   "id": "ced171e5",
   "metadata": {},
   "outputs": [
    {
     "name": "stdout",
     "output_type": "stream",
     "text": [
      "True\n"
     ]
    }
   ],
   "source": [
    "def myfunct(string):\n",
    "    ans=''\n",
    "    for i in range(len(string)):\n",
    "        if(i%2 !=0):\n",
    "            ans += string[i].upper()\n",
    "        else:\n",
    "            ans += string[i].lower()\n",
    "    if ans==string:\n",
    "        return True\n",
    "    else:\n",
    "        return False\n",
    "    \n",
    "    \n",
    "op=myfunct('aNiMaL')\n",
    "print(op)"
   ]
  },
  {
   "cell_type": "markdown",
   "id": "eb27b593",
   "metadata": {},
   "source": [
    "# Day 8"
   ]
  },
  {
   "cell_type": "raw",
   "id": "60272740",
   "metadata": {},
   "source": [
    "program to count upper case and lower case in a string "
   ]
  },
  {
   "cell_type": "code",
   "execution_count": 59,
   "id": "d1f6b7f4",
   "metadata": {},
   "outputs": [],
   "source": [
    "def cal_case(string):\n",
    "    U_ans=0\n",
    "    L_ans =0\n",
    "    for i in range(len(string)):\n",
    "        if string[i].islower():\n",
    "            U_ans +=1\n",
    "        else:\n",
    "            L_ans +=1\n",
    "    print('sum of upper letter: ',U_ans)\n",
    "    print('sum of lower letter: ',L_ans)\n",
    "            "
   ]
  },
  {
   "cell_type": "code",
   "execution_count": 60,
   "id": "a7e325cd",
   "metadata": {},
   "outputs": [
    {
     "name": "stdout",
     "output_type": "stream",
     "text": [
      "sum of upper letter:  4\n",
      "sum of lower letter:  1\n",
      "None\n"
     ]
    }
   ],
   "source": [
    "print(cal_case('Nidhi'))"
   ]
  },
  {
   "cell_type": "markdown",
   "id": "f9ae0f84",
   "metadata": {},
   "source": [
    "# Day 9"
   ]
  },
  {
   "cell_type": "raw",
   "id": "4787d89d",
   "metadata": {},
   "source": [
    "program to check pelindrop "
   ]
  },
  {
   "cell_type": "code",
   "execution_count": 64,
   "id": "e2f51d07",
   "metadata": {},
   "outputs": [],
   "source": [
    "def pelin(string):\n",
    "    print(string[::-1])\n",
    "    return string==string[::-1]"
   ]
  },
  {
   "cell_type": "code",
   "execution_count": 65,
   "id": "0a889048",
   "metadata": {},
   "outputs": [
    {
     "name": "stdout",
     "output_type": "stream",
     "text": [
      "oppo\n",
      "oppo\n"
     ]
    },
    {
     "data": {
      "text/plain": [
       "True"
      ]
     },
     "execution_count": 65,
     "metadata": {},
     "output_type": "execute_result"
    }
   ],
   "source": [
    "string=input('')\n",
    "pelin(string)"
   ]
  },
  {
   "cell_type": "markdown",
   "id": "cba20a27",
   "metadata": {},
   "source": [
    "# Day 10 "
   ]
  },
  {
   "cell_type": "raw",
   "id": "43c47e7f",
   "metadata": {},
   "source": [
    "multiply num of list"
   ]
  },
  {
   "cell_type": "code",
   "execution_count": 76,
   "id": "ee19b8a4",
   "metadata": {},
   "outputs": [],
   "source": [
    "def multiply(lst):\n",
    "    result=1\n",
    "    for i in lst:\n",
    "        result *= i\n",
    "    return result\n",
    "        "
   ]
  },
  {
   "cell_type": "code",
   "execution_count": 77,
   "id": "e2752ff5",
   "metadata": {},
   "outputs": [
    {
     "name": "stdout",
     "output_type": "stream",
     "text": [
      "84\n"
     ]
    }
   ],
   "source": [
    "print(multiply([1,3,4,7]))"
   ]
  },
  {
   "cell_type": "markdown",
   "id": "9f89896c",
   "metadata": {},
   "source": [
    "# Day 11"
   ]
  },
  {
   "cell_type": "raw",
   "id": "f53c0699",
   "metadata": {},
   "source": [
    "paper_doll('Hello')----> 'Hhheeellllllooo'\n",
    "paper_doll('Sachin')----> 'SSSaaaccchhhiiinnn'"
   ]
  },
  {
   "cell_type": "code",
   "execution_count": 8,
   "id": "cd076d1e",
   "metadata": {},
   "outputs": [],
   "source": [
    "def paper_doll(string):\n",
    "    ans=''\n",
    "    for i in string:\n",
    "        ans=ans+i*3\n",
    "    return ans"
   ]
  },
  {
   "cell_type": "code",
   "execution_count": 12,
   "id": "159ea5e9",
   "metadata": {},
   "outputs": [
    {
     "name": "stdout",
     "output_type": "stream",
     "text": [
      "put stringLove\n",
      "LLLooovvveee\n"
     ]
    }
   ],
   "source": [
    "s=input(\"put string\")\n",
    "print(paper_doll(s))"
   ]
  },
  {
   "cell_type": "code",
   "execution_count": 18,
   "id": "f1c7d44c",
   "metadata": {},
   "outputs": [
    {
     "name": "stdout",
     "output_type": "stream",
     "text": [
      "mul\n",
      "ml\n",
      "amul\n",
      "al\n"
     ]
    }
   ],
   "source": [
    "string =\"amul\"\n",
    "print(string[1:4])\n",
    "print(string[1:4:2])\n",
    "print(string[::1])\n",
    "print(string[::3]) #reverse"
   ]
  },
  {
   "cell_type": "code",
   "execution_count": 23,
   "id": "2ac6836c",
   "metadata": {},
   "outputs": [
    {
     "data": {
      "text/plain": [
       "'HHHiii'"
      ]
     },
     "execution_count": 23,
     "metadata": {},
     "output_type": "execute_result"
    }
   ],
   "source": [
    "#method 2\n",
    "def paper_doll(string):\n",
    "    return ''.join([char*3 for char in string])\n",
    "paper_doll('Hi')"
   ]
  },
  {
   "cell_type": "markdown",
   "id": "17e9c507",
   "metadata": {},
   "source": [
    "# Day 12"
   ]
  },
  {
   "cell_type": "raw",
   "id": "de5170d4",
   "metadata": {},
   "source": [
    "leap_yr(1996)---> Leap year\n",
    "leap_yr(2002)---> not Leap year"
   ]
  },
  {
   "cell_type": "code",
   "execution_count": 28,
   "id": "ea03df19",
   "metadata": {},
   "outputs": [],
   "source": [
    "def leap_yr(yr):\n",
    "    if (yr % 400 ==0) or (yr%4==0 and yr%100==0):\n",
    "        return \"Leap Year\"\n",
    "    else:\n",
    "        return \"not Leap yr ghr jaao khana khao\""
   ]
  },
  {
   "cell_type": "code",
   "execution_count": 29,
   "id": "615b7f28",
   "metadata": {},
   "outputs": [
    {
     "data": {
      "text/plain": [
       "'Leap Year'"
      ]
     },
     "execution_count": 29,
     "metadata": {},
     "output_type": "execute_result"
    }
   ],
   "source": [
    "leap_yr(2000)"
   ]
  },
  {
   "cell_type": "markdown",
   "id": "01bd802e",
   "metadata": {},
   "source": [
    "# Day 13"
   ]
  },
  {
   "cell_type": "raw",
   "id": "d642d74c",
   "metadata": {},
   "source": [
    "Capitalize 1st and 4th letter of string \n",
    "capital(\"sachin\")---------> SacHin\n",
    "capital(\"jai\")---------> input is not short"
   ]
  },
  {
   "cell_type": "code",
   "execution_count": 36,
   "id": "a826668c",
   "metadata": {},
   "outputs": [],
   "source": [
    "def Capital(string):\n",
    "    if (len(string)<4):\n",
    "        return \"input is too short\"\n",
    "    else:\n",
    "        return string[0].capitalize()+string[1:3] +string[3].capitalize()+string[4:]"
   ]
  },
  {
   "cell_type": "code",
   "execution_count": 39,
   "id": "faa6ee2a",
   "metadata": {},
   "outputs": [
    {
     "data": {
      "text/plain": [
       "'input is too short'"
      ]
     },
     "execution_count": 39,
     "metadata": {},
     "output_type": "execute_result"
    }
   ],
   "source": [
    "Capital(\"Sachin\")\n",
    "Capital(\"String\")\n",
    "Capital(\"roy\")"
   ]
  },
  {
   "cell_type": "code",
   "execution_count": 42,
   "id": "c0775e66",
   "metadata": {},
   "outputs": [],
   "source": [
    "#method 2 \n",
    "\n",
    "def Capital(string):\n",
    "    if (len(string)<4):\n",
    "        return \"input is too short\"\n",
    "    else:\n",
    "        string=string.replace(string[0],string[0].upper())\n",
    "        string=string.replace(string[3],string[3].upper())\n",
    "        print(string)"
   ]
  },
  {
   "cell_type": "code",
   "execution_count": 44,
   "id": "bc820cc3",
   "metadata": {},
   "outputs": [
    {
     "name": "stdout",
     "output_type": "stream",
     "text": [
      "SacHin\n"
     ]
    },
    {
     "data": {
      "text/plain": [
       "'input is too short'"
      ]
     },
     "execution_count": 44,
     "metadata": {},
     "output_type": "execute_result"
    }
   ],
   "source": [
    "Capital(\"sachin\")\n",
    "Capital(\"jai\")"
   ]
  },
  {
   "cell_type": "code",
   "execution_count": null,
   "id": "337d1532",
   "metadata": {},
   "outputs": [],
   "source": []
  }
 ],
 "metadata": {
  "kernelspec": {
   "display_name": "Python 3",
   "language": "python",
   "name": "python3"
  },
  "language_info": {
   "codemirror_mode": {
    "name": "ipython",
    "version": 3
   },
   "file_extension": ".py",
   "mimetype": "text/x-python",
   "name": "python",
   "nbconvert_exporter": "python",
   "pygments_lexer": "ipython3",
   "version": "3.8.8"
  }
 },
 "nbformat": 4,
 "nbformat_minor": 5
}
