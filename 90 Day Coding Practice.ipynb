{
 "cells": [
  {
   "cell_type": "markdown",
   "id": "e0800528",
   "metadata": {},
   "source": [
    "### D-1. Digit Sum"
   ]
  },
  {
   "cell_type": "code",
   "execution_count": 7,
   "id": "109508c2",
   "metadata": {},
   "outputs": [],
   "source": [
    "##https://www.linkedin.com/in/rahulupadhyabigdata/recent-activity/shares/"
   ]
  },
  {
   "cell_type": "code",
   "execution_count": 1,
   "id": "2b35357c",
   "metadata": {},
   "outputs": [],
   "source": [
    "def sumDigits(n):\n",
    "    num_list=[int(i) for i in list(str(n))]\n",
    "    if len(num_list)>1:\n",
    "        sumDigits(sum(num_list))\n",
    "    else:\n",
    "        print(sum(num_list))"
   ]
  },
  {
   "cell_type": "code",
   "execution_count": 2,
   "id": "1f8ee702",
   "metadata": {},
   "outputs": [
    {
     "name": "stdout",
     "output_type": "stream",
     "text": [
      "7\n"
     ]
    }
   ],
   "source": [
    "sumDigits(916)"
   ]
  },
  {
   "cell_type": "markdown",
   "id": "030acdef",
   "metadata": {},
   "source": [
    "### D-2. Write a function which takes a string as input and returns true if it contains all the numbers from 0 to 9."
   ]
  },
  {
   "cell_type": "code",
   "execution_count": 3,
   "id": "1e2be14c",
   "metadata": {},
   "outputs": [],
   "source": [
    "#method-1\n",
    "def containsAllNumbers(inp_str):\n",
    "    str_list=list(inp_str)\n",
    "    str_num_list=[int(i) for i in str_list if i.isdigit()]\n",
    "    for i in range(10):\n",
    "        if i not in str_num_list:\n",
    "            return True\n",
    "            break\n",
    "        else:\n",
    "            return False\n",
    "                \n"
   ]
  },
  {
   "cell_type": "code",
   "execution_count": 4,
   "id": "95a88830",
   "metadata": {},
   "outputs": [
    {
     "data": {
      "text/plain": [
       "True"
      ]
     },
     "execution_count": 4,
     "metadata": {},
     "output_type": "execute_result"
    }
   ],
   "source": [
    "containsAllNumbers(\"a78b9c01cd3e4526fk\") \n",
    "containsAllNumbers(\"abcd1\") \n",
    "containsAllNumbers(\"123456789\") "
   ]
  },
  {
   "cell_type": "code",
   "execution_count": 5,
   "id": "480cd8c4",
   "metadata": {},
   "outputs": [
    {
     "data": {
      "text/plain": [
       "False"
      ]
     },
     "execution_count": 5,
     "metadata": {},
     "output_type": "execute_result"
    }
   ],
   "source": [
    "#method-2\n",
    "def containsAllNumbers(st) :\n",
    "    lst = sorted(set(st))\n",
    "    st2 = \"\".join(lst)\n",
    "    if \"0123456789\" in st2 :\n",
    "        return True\n",
    "    else :\n",
    "        return False\n",
    "\n",
    "containsAllNumbers(\"a78b9c03e4526fk\")"
   ]
  },
  {
   "cell_type": "markdown",
   "id": "dfef9e9a",
   "metadata": {},
   "source": [
    "### 3.Write a function which takes a string as input and prints reversed string in 3 formats as shown below.\n",
    "\n",
    "reverseStr(\"Hello Folks Lets Code\") =\n",
    "\n",
    "edoC steL skloF olleH\n",
    "Code Lets Folks Hello\n",
    "olleH skloF steL edoC"
   ]
  },
  {
   "cell_type": "code",
   "execution_count": 130,
   "id": "edb4dc5f",
   "metadata": {
    "scrolled": true
   },
   "outputs": [
    {
     "name": "stdout",
     "output_type": "stream",
     "text": [
      "e\n",
      "d\n",
      "o\n",
      "C\n",
      " \n",
      "s\n",
      "t\n",
      "e\n",
      "L\n",
      " \n",
      "s\n",
      "k\n",
      "l\n",
      "o\n",
      "F\n",
      " \n",
      "o\n",
      "l\n",
      "l\n",
      "e\n",
      "H\n"
     ]
    }
   ],
   "source": [
    "def convert(n):\n",
    "    num_list=list(n)\n",
    "    for i in num_list[::-1]:\n",
    "        print(i)\n",
    "    \n",
    "convert(\"Hello Folks Lets Code\")"
   ]
  },
  {
   "cell_type": "code",
   "execution_count": 128,
   "id": "9ff8f477",
   "metadata": {},
   "outputs": [
    {
     "name": "stdout",
     "output_type": "stream",
     "text": [
      " Code Lets Folks Hello ,edoC steL skloF olleH ,olleH skloF steL edoC \n"
     ]
    }
   ],
   "source": [
    "def reverseStr(s: str):\n",
    "    s=\"Hello Folks Lets Code\"\n",
    "    splitted_s = s.split(\" \")\n",
    "    l = len(splitted_s)\n",
    "    out= \" \"\n",
    "    for i in range(1,l+1):\n",
    "        out +=splitted_s[-i] +\" \"\n",
    "        out1=out+ \",\"\n",
    "    for i in range(1,l+1):\n",
    "        out1 +=splitted_s[-i][::-1] + \" \"\n",
    "        out2=out1+\",\"\n",
    "    for i in range(l):\n",
    "        out2 +=splitted_s[i][::-1] + \" \"\n",
    "    print(out2)\n",
    "    \n",
    "reverseStr(\"Hello Folks Lets Code\")"
   ]
  },
  {
   "cell_type": "code",
   "execution_count": 135,
   "id": "b7dc414e",
   "metadata": {},
   "outputs": [
    {
     "name": "stdout",
     "output_type": "stream",
     "text": [
      "\"Hello Folks Lets Code\"\n",
      "\"edoC steL skloF olleH\"\n",
      "Code\" Lets Folks \"Hello\n",
      "olleH\" skloF steL \"edoC\n"
     ]
    }
   ],
   "source": [
    "def conv(s):\n",
    "    s=input()\n",
    "    print(s[::-1])\n",
    "    print(\" \".join(s.split()[::-1]))\n",
    "    print(\" \".join([i[::-1] for i in s.split()]))\n",
    "conv(s)"
   ]
  },
  {
   "cell_type": "markdown",
   "id": "a45010b5",
   "metadata": {},
   "source": [
    "### D-6 Write a function which takes a list of integers as input and informs whether the list is a Fibonacci series or not."
   ]
  },
  {
   "cell_type": "raw",
   "id": "d04714ac",
   "metadata": {},
   "source": [
    "isFiboSeries(List(1,1,2,3,5,8,13)) = true\n",
    "isFiboSeries(List(1,1,2,3,7,9,11)) = false\n",
    "    isFiboSeries(List(1,3,4,7,11)) = true"
   ]
  },
  {
   "cell_type": "code",
   "execution_count": 156,
   "id": "5ac6490e",
   "metadata": {},
   "outputs": [
    {
     "name": "stdout",
     "output_type": "stream",
     "text": [
      "True\n"
     ]
    }
   ],
   "source": [
    "def isFiboSeries(lst):\n",
    "    if len(lst) <= 2:\n",
    "        return False\n",
    "    for i in range(len(lst)-2):\n",
    "        if lst[i]+lst[i+1] != lst[i+2]:\n",
    "            return False\n",
    "    return True\n",
    "\n",
    "lst1 = [1,1,2,3,5,8,13]\n",
    "print(isFiboSeries(lst1))"
   ]
  },
  {
   "cell_type": "markdown",
   "id": "8a5924f0",
   "metadata": {},
   "source": [
    "### D-8 Write a function which takes a string as input and prints total occurrences of each character."
   ]
  },
  {
   "cell_type": "code",
   "execution_count": 27,
   "id": "81ea1ef2",
   "metadata": {},
   "outputs": [
    {
     "name": "stdout",
     "output_type": "stream",
     "text": [
      "Enter a string:- dadanana\n",
      "{'d': 2, 'a': 4, 'n': 2}\n"
     ]
    }
   ],
   "source": [
    "def charOccur(s):\n",
    "    occurence = {}\n",
    " \n",
    "    for i in s:\n",
    "        if i in occurence:\n",
    "            occurence[i]=occurence[i]+1\n",
    "        else:\n",
    "            occurence[i]=1\n",
    " \n",
    "    return occurence\n",
    " \n",
    "string1 = input('Enter a string:- ')\n",
    "print(charOccur(string1))"
   ]
  },
  {
   "cell_type": "code",
   "execution_count": 28,
   "id": "89555968",
   "metadata": {},
   "outputs": [
    {
     "name": "stdout",
     "output_type": "stream",
     "text": [
      "dict_items([('S', 2), ('c', 1), ('a', 3), ('l', 1), (' ', 1), ('p', 1), ('r', 1), ('k', 1)])\n"
     ]
    }
   ],
   "source": [
    "from collections import Counter\n",
    "def charOccur(str):\n",
    "     return Counter(str).items()\n",
    "print(charOccur(\"Scala Spark\"))"
   ]
  },
  {
   "cell_type": "code",
   "execution_count": 33,
   "id": "a86c9947",
   "metadata": {},
   "outputs": [
    {
     "name": "stdout",
     "output_type": "stream",
     "text": [
      "The count of all characters in GeeksforGeeks is :\n",
      " {'a': 2, 'L': 1, 'n': 1, 'o': 1, 'p': 1, 't': 1, 'l': 2}\n"
     ]
    }
   ],
   "source": [
    "test_str = \"Lallantop\"\n",
    " \n",
    "# using set() + count() to get count\n",
    "# of each element in string\n",
    "res = {i: test_str.count(i) for i in set(test_str)}\n",
    " \n",
    "# printing result\n",
    "print(\"The count of all characters in GeeksforGeeks is :\\n \" + str(res))"
   ]
  },
  {
   "cell_type": "markdown",
   "id": "8d39329f",
   "metadata": {},
   "source": [
    "### D-9 Write a function which takes \"list of integers\" as input & finds product of numbers that are less than 10."
   ]
  },
  {
   "cell_type": "raw",
   "id": "54f0a26f",
   "metadata": {},
   "source": [
    "findProduct(List(10,3,5,87,34)) = 15\n",
    "//Explanation: Numbers less than 10 => 3*5 = 15\n",
    "\n",
    "findProduct(List(73,100)) = 0\n",
    "//Explanation: No numbers less than 10\n",
    "\n",
    "findProduct(List(-3,45,11,8,9)) = -216\n",
    "//Explanation: Numbers less than 10 => -3*8*9=-216"
   ]
  },
  {
   "cell_type": "code",
   "execution_count": 57,
   "id": "e6c50ff6",
   "metadata": {
    "scrolled": true
   },
   "outputs": [
    {
     "name": "stdout",
     "output_type": "stream",
     "text": [
      "input:  [5, 6, 101, 9]  =>  270\n"
     ]
    }
   ],
   "source": [
    "def product(numbers):\n",
    "    list2=[]\n",
    "    res=0\n",
    "    print(\"input: \",numbers,\" => \",end=' ')\n",
    "    for num in numbers:\n",
    "        if num<10:\n",
    "            res=1\n",
    "            list2.append(num)\n",
    "        else:\n",
    "            continue\n",
    "    \n",
    "    for i in list2:\n",
    "        res=res*i\n",
    "    print(res)\n",
    "        \n",
    "#list1=[1,4,60,7,8]\n",
    "list1=[5,6,101,9]\n",
    "product(list1)"
   ]
  },
  {
   "cell_type": "code",
   "execution_count": 77,
   "id": "2d5949cd",
   "metadata": {},
   "outputs": [
    {
     "name": "stdout",
     "output_type": "stream",
     "text": [
      "254016\n",
      "[7, 6, 3, 8, 1, 4, 7, 9]\n"
     ]
    }
   ],
   "source": [
    "test_list2 = [7, 6, 3, 8, 10, 12,50,15,1,4,7,9]\n",
    " \n",
    "TEXT=[]\n",
    "result=1\n",
    "\n",
    "##for object moving from one list to other \n",
    "for i in test_list2:\n",
    "    if i<10:\n",
    "        TEXT=TEXT+[i]\n",
    "    else:\n",
    "        continue\n",
    "        \n",
    "        \n",
    "##for multiply objects in  list        \n",
    "for i in TEXT:\n",
    "    result=result*i\n",
    "print(result)\n",
    "print(TEXT)\n",
    "    "
   ]
  },
  {
   "cell_type": "markdown",
   "id": "dadf5045",
   "metadata": {},
   "source": [
    "### D-11 Write a function which takes a list of string (email_ids) as input & returns list with only id part (before @) and \"_index\" attached as shown in the samples."
   ]
  },
  {
   "cell_type": "raw",
   "id": "8d0db866",
   "metadata": {},
   "source": [
    "getIdList(List(\"ggyan@gmail.com\",\"mrunalik@gmail.com\",\"abc123@rediffmail.com\"))\n",
    "= List(\"ggyan_0\",\"mrunalik_1\",\"abc123_2\")\n",
    "\n",
    "getIdList(List(\"rdravid@gmail.com\",\"tsachin@gmail.com\"))\n",
    "= List(\"rdravid_0\",\"tsachin_1\")"
   ]
  },
  {
   "cell_type": "code",
   "execution_count": 143,
   "id": "c0b2c2f0",
   "metadata": {},
   "outputs": [
    {
     "name": "stdout",
     "output_type": "stream",
     "text": [
      "abc_0\n",
      "xyz_1\n"
     ]
    }
   ],
   "source": [
    "## ---------------Basics -----------------------\n",
    "\n",
    "l=[\"abc@gmail.com\",\"xyz@gmail.com\"]\n",
    "res=[]\n",
    "for i in l:\n",
    "       print(i.split(\"@\")[0]+\"_\"+str(l.index(i)))"
   ]
  },
  {
   "cell_type": "code",
   "execution_count": 113,
   "id": "99da3e38",
   "metadata": {},
   "outputs": [
    {
     "name": "stdout",
     "output_type": "stream",
     "text": [
      "['abc_0', 'xyz_1']\n"
     ]
    }
   ],
   "source": [
    "#solve\n",
    "def getIdList(l):\n",
    "    res=list()\n",
    "    for i in l:\n",
    "        res.append(i.split(\"@\")[0]+\"_\"+str(l.index(i)))\n",
    "    return res\n",
    "\n",
    "print(getIdList([\"abc@gmail.com\",\"xyz@gmail.com\"]))"
   ]
  },
  {
   "cell_type": "code",
   "execution_count": 144,
   "id": "f1095a11",
   "metadata": {
    "scrolled": true
   },
   "outputs": [
    {
     "name": "stdout",
     "output_type": "stream",
     "text": [
      "The original string is : manjeet@geeksforgeeks.com\n",
      "The extracted domain name : manjeet_0\n"
     ]
    }
   ],
   "source": [
    "## ---------------Basics -----------------------\n",
    "test_str = 'manjeet@geeksforgeeks.com'\n",
    "print(\"The original string is : \" + str(test_str))\n",
    " \n",
    "# slicing domain name using slicing\n",
    "res = test_str[:test_str.index('@')] +'_0'\n",
    " \n",
    "# printing result\n",
    "print(\"The extracted domain name : \" + str(res))"
   ]
  },
  {
   "cell_type": "code",
   "execution_count": 145,
   "id": "f5ec7fc0",
   "metadata": {
    "scrolled": true
   },
   "outputs": [
    {
     "name": "stdout",
     "output_type": "stream",
     "text": [
      "['ggyan_0', 'mrunalik_1', 'abc123_2']\n"
     ]
    }
   ],
   "source": [
    "\n",
    "def getIdlist(ids):\n",
    "    newlst=[]\n",
    "    for i in ids:\n",
    "        newlst.append(i[:i.index('@')]+\"_\"+str(ids.index(i)))\n",
    "        ##print(i[:i.index('@')]+\"_\"+str(ids.index(i)))\n",
    "    print(newlst) \n",
    "    \n",
    "sample=[\"ggyan@gmail.com\",\"mrunalik@gmail.com\",\"abc123@rediffmail.com\"]   \n",
    "getIdlist(sample)"
   ]
  },
  {
   "cell_type": "markdown",
   "id": "ede06379",
   "metadata": {},
   "source": [
    "### D-12 Write a function which takes a list of integers as input & returns list of integers that are duplicates as shown in the samples."
   ]
  },
  {
   "cell_type": "raw",
   "id": "1709837a",
   "metadata": {},
   "source": [
    "#Example\n",
    "List(1,2,3,4,1,2,3) = List(1,2,3)\n",
    "List(1,2,67,2,3,4) = List(2)\n",
    "List(40,50,60) = List()"
   ]
  },
  {
   "cell_type": "code",
   "execution_count": 160,
   "id": "57922d7b",
   "metadata": {},
   "outputs": [
    {
     "name": "stdout",
     "output_type": "stream",
     "text": [
      "Unique Elements:  [1, 2, 3]\n",
      "Duplicate Elements:  [1]\n"
     ]
    }
   ],
   "source": [
    "unique_elements=[]\n",
    "duplicate_elements=[]\n",
    "def dupl(s):\n",
    "    for i in s:\n",
    "        if i not in unique_elements:\n",
    "            unique_elements.append(i)\n",
    "        else:\n",
    "            duplicate_elements.append(i)\n",
    "    print(\"Unique Elements: \",unique_elements)\n",
    "    print(\"Duplicate Elements: \",duplicate_elements)\n",
    "        \n",
    "z=[1,2,1,3]\n",
    "dupl(z)"
   ]
  },
  {
   "cell_type": "markdown",
   "id": "8217e91b",
   "metadata": {},
   "source": [
    "### D-13  Write a function which takes two strings as input - str1 & str2 - & prints all the indexes where the substring str2 is present in str1 - as shown in the samples."
   ]
  },
  {
   "cell_type": "raw",
   "id": "f3c4b7a4",
   "metadata": {},
   "source": [
    "Example:\n",
    "printIndex(\"hippopotamus\",\"po\") = \n",
    "3\n",
    "5\n",
    "\n",
    "printIndex(\"common\",\"hello\") = \n",
    "//No output\n",
    "\n",
    "printIndex(\"improvement\",\"m\") =\n",
    "1\n",
    "7"
   ]
  },
  {
   "cell_type": "code",
   "execution_count": 211,
   "id": "012d13d2",
   "metadata": {},
   "outputs": [
    {
     "name": "stdout",
     "output_type": "stream",
     "text": [
      "3\n",
      "5\n"
     ]
    }
   ],
   "source": [
    "def identity(s, subs):\n",
    "    n = len(s)\n",
    "    for i in range(n):\n",
    "        if(s.startswith(subs,i)):\n",
    "            print(i)\n",
    "identity(\"hippopotamus\",\"po\")"
   ]
  },
  {
   "cell_type": "code",
   "execution_count": 200,
   "id": "ac170782",
   "metadata": {},
   "outputs": [
    {
     "name": "stdout",
     "output_type": "stream",
     "text": [
      "3\n",
      "5\n"
     ]
    }
   ],
   "source": [
    "#SOL-2\n",
    "\n",
    "def index_num(s1,s2):\n",
    "    index_found = 0\n",
    "    for i in range(len(s1)-len(s2)):\n",
    "        if s1[i:i+len(s2)]==s2:\n",
    "            print(i)\n",
    "            index_found+=1\n",
    "        else:\n",
    "            pass\n",
    "    if index_found == 0:\n",
    "        print(\"No Ouput\")\n",
    "        \n",
    "index_num(\"hippopotamus\",\"po\")\n",
    "        "
   ]
  },
  {
   "cell_type": "markdown",
   "id": "50560b62",
   "metadata": {},
   "source": [
    "### D-14 Write a function which takes a string as input and returns string comprising of 2nd last characters of each word - as shown in the samples."
   ]
  },
  {
   "cell_type": "raw",
   "id": "f2703d8d",
   "metadata": {},
   "source": [
    "example:\n",
    "    \n",
    "get2ndLastChars(\"Hello can I draw\") = l a a\n",
    "//Explanation: Hello=l, can=a, I=ignored, draw=a\n",
    "\n",
    "get2ndLastChars(\"Coders are here\") = r r r\n",
    "Explanation: Coders=r, are=r, here=r\n",
    "\n",
    "get2ndLastChars(\"Today is Wednesday\") = a i a\n",
    "Explanation: Today=a, is=i, Wednesday=a"
   ]
  },
  {
   "cell_type": "code",
   "execution_count": 264,
   "id": "b70ea441",
   "metadata": {},
   "outputs": [
    {
     "name": "stdout",
     "output_type": "stream",
     "text": [
      "a\n",
      "i\n",
      "a\n"
     ]
    }
   ],
   "source": [
    "def elements(s):\n",
    "    for i in s:\n",
    "        new=i.split(\" \")\n",
    "        for j in new:\n",
    "            if len(j)<1:\n",
    "                pass\n",
    "            else:\n",
    "                print(j[-2])\n",
    "                \n",
    "s=[\"Today is Wednesday\"]\n",
    "elements(s)"
   ]
  },
  {
   "cell_type": "code",
   "execution_count": 262,
   "id": "fa4de824",
   "metadata": {},
   "outputs": [
    {
     "name": "stdout",
     "output_type": "stream",
     "text": [
      "['a', 'i', 'a']\n"
     ]
    }
   ],
   "source": [
    "#Solution -2 for 2nd last element \n",
    "def get2ndLastChars(str):\n",
    "    print([word[-2] for word in str.split() if len(word)>1])\n",
    "\n",
    "get2ndLastChars(\"Today is Wednesday\")"
   ]
  },
  {
   "cell_type": "markdown",
   "id": "04d712dd",
   "metadata": {},
   "source": [
    "### D-15 Write a function which takes two \"List of strings\" as input - firstName & lastName - along with a \"number\" & generates \"list of strings\" containing random names (equal to the number provided as input) by concatenating firstName & lastName."
   ]
  },
  {
   "cell_type": "raw",
   "id": "0ea41df2",
   "metadata": {},
   "source": [
    "Example:\n",
    "getRandomNames(List(\"Ram\",\"Abhishek\",\"Pooja\"),List(\"Thakur\",\"Bose\"),5)\n",
    "= List(\"Ram Thakur\",\"Ram Thakur\",\"Abhishek Thakur\",\"Abhishek Bose\",\"Pooja Bose\")\n",
    "\n",
    "getRandomNames(List(\"Ram\",\"Abhishek\",\"Pooja\"),List(\"Thakur\",\"Bose\"),3)\n",
    "= List(\"Pooja Bose\",\"Ram Bose\",\"Abhishek Thakur\")\n",
    "\n",
    "getRandomNames(List(\"Rajiv\",\"Chandra\"),List(\"Prakash\",\"Gokhale\",\"Singh\"),2)\n",
    "= List(\"Chandra Gokhale\",\"Rajiv Singh\")"
   ]
  },
  {
   "cell_type": "code",
   "execution_count": 266,
   "id": "371d54d9",
   "metadata": {},
   "outputs": [
    {
     "data": {
      "text/plain": [
       "['Pooja Bose', 'Pooja Bose', 'Ram Thakur', 'Ram Thakur', 'Abhishek Thakur']"
      ]
     },
     "execution_count": 266,
     "metadata": {},
     "output_type": "execute_result"
    }
   ],
   "source": [
    "import random\n",
    "def getRandomNames(l1,l2,num):\n",
    "    full_name = [random.choice(l1) + \" \" + random.choice(l2) for i in range(num)]\n",
    "    return full_name\n",
    "\n",
    "l1=[\"Ram\",\"Abhishek\",\"Pooja\"]\n",
    "l2=[\"Thakur\",\"Bose\"]\n",
    "num=5\n",
    "\n",
    "getRandomNames(l1,l2,num)"
   ]
  },
  {
   "cell_type": "code",
   "execution_count": 267,
   "id": "3f3b7f3d",
   "metadata": {},
   "outputs": [
    {
     "name": "stdout",
     "output_type": "stream",
     "text": [
      "['Ram Thakur', 'Ram Bose', 'Abhishek Thakur', 'Abhishek Bose', 'Pooja Thakur']\n"
     ]
    }
   ],
   "source": [
    "def getRandomNames(firstNames, lastNames, num):\n",
    "    print([i + \" \" + j for i in firstNames for j in lastNames][:num])\n",
    "getRandomNames([\"Ram\",\"Abhishek\",\"Pooja\"], [\"Thakur\",\"Bose\"],5)"
   ]
  },
  {
   "cell_type": "markdown",
   "id": "a4981f39",
   "metadata": {},
   "source": [
    "### D-16 Write a function which takes \"List of strings\" as input - phoneNo_name - & returns \"list of strings\" containing the phoneNo that are duplicated."
   ]
  },
  {
   "cell_type": "raw",
   "id": "50377f65",
   "metadata": {},
   "source": [
    "getMultAccounts(List(\"8933819304_Abhi\",\"9388193845_Manish\",\"8933819304_Kamal\",\"9983847283_Jai\"))\n",
    "= List(\"8933819304\")\n",
    "\n",
    "getMultAccounts(List(\"9733918374_Kishore\",\"9733918378_Sanjivini\",\"9733918374_Mohit\",\"8390173944_Raj\",\"9733918378_Keshav\"))\n",
    "= List(\"9733918374\",\"9733918378\")\n",
    "\n",
    "getMultAccounts(List(\"8274817374_Palak\",\"8394482934_Rajni\"))\n",
    "= List()"
   ]
  },
  {
   "cell_type": "code",
   "execution_count": 282,
   "id": "13f3c92b",
   "metadata": {},
   "outputs": [
    {
     "name": "stdout",
     "output_type": "stream",
     "text": [
      "['8933819304']\n"
     ]
    }
   ],
   "source": [
    "newlst=[]\n",
    "repeat=[]\n",
    "def getMultAccounts(lst):\n",
    "    for i in lst:\n",
    "        if i.split(\"_\")[0] not in newlst:\n",
    "            newlst.append(i.split(\"_\")[0])\n",
    "        else:\n",
    "            repeat.append(i.split(\"_\")[0])\n",
    "        \n",
    "    print(repeat)\n",
    "    \n",
    "    \n",
    "lst=[\"8933819304_Abhi\",\"9388193845_Manish\",\"8933819304_Kamal\",\"9983847283_Jai\"]\n",
    "getMultAccounts(lst)"
   ]
  },
  {
   "cell_type": "code",
   "execution_count": 283,
   "id": "03e0d05e",
   "metadata": {},
   "outputs": [
    {
     "name": "stdout",
     "output_type": "stream",
     "text": [
      "['8933819304']\n"
     ]
    }
   ],
   "source": [
    "##solution-2\n",
    "\n",
    "def getMultAccounts(lst):\n",
    "    ph_lst = [l.split(\"_\")[0] for l in lst]\n",
    "    dup_lst = [p for i,p in enumerate(ph_lst) if p in ph_lst[i+1:]]\n",
    "    print(dup_lst)\n",
    "\n",
    "getMultAccounts([\"8933819304_Abhi\",\"9388193845_Manish\",\"8933819304_Kamal\",\"9983847283_Jai\"])"
   ]
  },
  {
   "cell_type": "code",
   "execution_count": null,
   "id": "ef95c358",
   "metadata": {},
   "outputs": [],
   "source": [
    "Write a function which takes \"Array of Integers\" as input and returns a \"tuple\" containing sum of odd indices & product of even indices - as shown in the samples. (Considering 0-index)\n",
    "\n",
    "getAltSumProduct(Array(1,4,5,6)) = (10,5)\n",
    "//Explanation: (4+6,1*5) = (10,5)\n",
    "\n",
    "getAltSumProduct(Array(3,4,6,9,7)) = (13,126)\n",
    "//Explanation: (4+9,3*6*7) = (13,126)\n",
    "\n",
    "getAltSumProduct(Array(0,8,3,88)) = (96,0)\n",
    "//Explanation: (8+88,0*3) = (96,0)"
   ]
  },
  {
   "cell_type": "code",
   "execution_count": null,
   "id": "cf6b7916",
   "metadata": {},
   "outputs": [],
   "source": [
    "D-18) Write a function which takes 2 inputs - \"Array of Integers\" and a number & prints all the distinct pairs of array elements whose sum is equal to the input number provided - as shown in the samples.\n",
    "\n",
    "printSumPairs(Array(1,4,3,2,8,5),5) =\n",
    "1,4\n",
    "3,2\n",
    "//Explanation: 1+4=5, 3+2=5\n",
    "\n",
    "printSumPairs(Array(2,7,81,20,25,26,1),27) =\n",
    "2,25\n",
    "7,20\n",
    "26,1\n",
    "//Explanation: 2+25=27, 7+20=27, 26+1=27"
   ]
  },
  {
   "cell_type": "code",
   "execution_count": null,
   "id": "7b722f00",
   "metadata": {},
   "outputs": [],
   "source": [
    "D-19) Write a function which takes 2 inputs - \"Array of Integers\" and a number & returns the rotated array by the specified number - as shown in the samples.\n",
    "\n",
    "rotateArray(Array(5,10,12,16,2,9),1)\n",
    "= Array(10, 12, 16, 2, 9, 5)\n",
    "\n",
    "rotateArray(Array(5,10,12,16,2,9),2)\n",
    "= Array(12, 16, 2, 9, 5, 10)\n",
    "\n",
    "rotateArray(Array(5,10,12,16,2,9),3)\n",
    "= Array(16, 2, 9, 5, 10, 12)\n",
    "\n",
    "rotateArray(Array(5,10,12,16,2,9),5)\n",
    "= Array(9, 5, 10, 12, 16, 2)"
   ]
  },
  {
   "cell_type": "code",
   "execution_count": null,
   "id": "7196e9d7",
   "metadata": {},
   "outputs": [],
   "source": [
    "D-20) Write a function which takes an Integer as input and returns the reversed Integer - as shown in the samples.\n",
    "\n",
    "reverseInt(125) = 521\n",
    "\n",
    "reverseInt(-235) = -532\n",
    "\n",
    "reverseInt(1500) = 51"
   ]
  },
  {
   "cell_type": "code",
   "execution_count": null,
   "id": "aca93185",
   "metadata": {},
   "outputs": [],
   "source": [
    "\n"
   ]
  }
 ],
 "metadata": {
  "kernelspec": {
   "display_name": "Python 3",
   "language": "python",
   "name": "python3"
  },
  "language_info": {
   "codemirror_mode": {
    "name": "ipython",
    "version": 3
   },
   "file_extension": ".py",
   "mimetype": "text/x-python",
   "name": "python",
   "nbconvert_exporter": "python",
   "pygments_lexer": "ipython3",
   "version": "3.8.8"
  }
 },
 "nbformat": 4,
 "nbformat_minor": 5
}
